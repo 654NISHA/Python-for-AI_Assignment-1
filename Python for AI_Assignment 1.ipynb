{
 "cells": [
  {
   "cell_type": "markdown",
   "id": "fe213624-1edc-44f1-9f76-e55a78bae15f",
   "metadata": {},
   "source": [
    "### 1. Write a Python program to determine the largest among three numbers entered by the user."
   ]
  },
  {
   "cell_type": "code",
   "execution_count": 1,
   "id": "5f5ed1dd-f47a-45b4-95f9-ed06802ae6b3",
   "metadata": {},
   "outputs": [
    {
     "name": "stdin",
     "output_type": "stream",
     "text": [
      "Enter any three numbers 34 51 21\n"
     ]
    },
    {
     "name": "stdout",
     "output_type": "stream",
     "text": [
      "Maximum number from given three numbers 51\n"
     ]
    }
   ],
   "source": [
    "a,b,c =map(int, input(\"Enter any three numbers\").split())\n",
    "\n",
    "def maximum(a,b,c):\n",
    "    if a > b:\n",
    "        if a > c:\n",
    "            return a\n",
    "        else:\n",
    "            return c\n",
    "    else:\n",
    "        if b > c:\n",
    "            return b\n",
    "        else:\n",
    "            return c\n",
    "        \n",
    "# Drive code\n",
    "print(\"Maximum number from given three numbers\", maximum(a,b,c))"
   ]
  },
  {
   "cell_type": "markdown",
   "id": "598c5907-6314-4af5-9b0e-79e72f38d760",
   "metadata": {},
   "source": [
    "### 2.Write a Python program to check if a given year is a leap year."
   ]
  },
  {
   "cell_type": "code",
   "execution_count": 2,
   "id": "df4ba834-82e4-423e-bea1-68deab957618",
   "metadata": {},
   "outputs": [
    {
     "name": "stdin",
     "output_type": "stream",
     "text": [
      "Enter a year 2000\n"
     ]
    },
    {
     "name": "stdout",
     "output_type": "stream",
     "text": [
      "2000 is leap year\n"
     ]
    }
   ],
   "source": [
    "year = int(input(\"Enter a year\"))\n",
    "\n",
    "def leapYear(y):\n",
    "    if y%4 == 0 and (y%100 != 0 or y%400 == 0):\n",
    "        print(f\"{y} is leap year\")\n",
    "    else:\n",
    "        print(f\"{y} is not leap year\")\n",
    "        \n",
    "# Drive code\n",
    "leapYear(year)"
   ]
  },
  {
   "cell_type": "markdown",
   "id": "975b9251-e278-4a95-8d0c-2bc790cfb08f",
   "metadata": {},
   "source": [
    "### 3. Write a Python program to print the following pattern:\n",
    "        1\n",
    "        22\n",
    "        333\n",
    "        4444\n",
    "        5555"
   ]
  },
  {
   "cell_type": "code",
   "execution_count": 3,
   "id": "7c5dcff4-87f0-4dde-a9b0-38d52ecddc58",
   "metadata": {},
   "outputs": [
    {
     "name": "stdout",
     "output_type": "stream",
     "text": [
      "1\n",
      "22\n",
      "333\n",
      "4444\n",
      "55555\n"
     ]
    }
   ],
   "source": [
    "for i in range(1, 6):\n",
    "    for j in range(1,i+1):\n",
    "        print(i,end=\"\")\n",
    "    print()"
   ]
  },
  {
   "cell_type": "markdown",
   "id": "a6ad42e7-541e-459f-b1f2-2765833c8d8b",
   "metadata": {},
   "source": [
    "### 4. Write a Python program to print the following pattern:\n",
    "        *\n",
    "        **\n",
    "        ***\n",
    "        ****\n",
    "        *****"
   ]
  },
  {
   "cell_type": "code",
   "execution_count": 4,
   "id": "d9587873-a222-43d6-95c8-b28de0180e42",
   "metadata": {},
   "outputs": [
    {
     "name": "stdout",
     "output_type": "stream",
     "text": [
      "*\n",
      "**\n",
      "***\n",
      "****\n",
      "*****\n"
     ]
    }
   ],
   "source": [
    "n = int(input(\"Enter how many rows you want\"))\n",
    "\n",
    "for i in range(1, ):\n",
    "    for j in range(1,i+1):\n",
    "        print(\"*\",end=\"\")\n",
    "    print()"
   ]
  },
  {
   "cell_type": "markdown",
   "id": "7a8f4f0d-ba98-410b-82b9-0d5dd43c2bce",
   "metadata": {},
   "source": [
    "### 5.Write a Python program to print the following pattern:\n",
    "        *\n",
    "       **\n",
    "      ***\n",
    "     ****\n",
    "    *****"
   ]
  },
  {
   "cell_type": "code",
   "execution_count": 12,
   "id": "c024d153-8f7d-4881-8ec4-3c0acf1b83e8",
   "metadata": {},
   "outputs": [
    {
     "name": "stdin",
     "output_type": "stream",
     "text": [
      "Enter how many rows you want 5\n"
     ]
    },
    {
     "name": "stdout",
     "output_type": "stream",
     "text": [
      "    *\n",
      "   **\n",
      "  ***\n",
      " ****\n",
      "*****\n"
     ]
    }
   ],
   "source": [
    "n = int(input(\"Enter how many rows you want\"))\n",
    "\n",
    "for i in range(1, n+1):\n",
    "    for j in range(n-i):\n",
    "        print(\" \",end= \"\")\n",
    "        \n",
    "    for k in range(i):\n",
    "        print(\"*\",end = \"\")\n",
    "        \n",
    "    print()  "
   ]
  },
  {
   "cell_type": "markdown",
   "id": "6ae3ecbb-15a0-403a-96f2-b2ed787a9c7b",
   "metadata": {},
   "source": [
    "### 6.Write a program that prints the numbers 1 to 100. However, for multiples of 3, print \"Fizz\" instead of the number. For multiples of 5, print \"Buzz\". For numbers that are multiples of both 3 and 5, print \"FizzBuzz\"."
   ]
  },
  {
   "cell_type": "code",
   "execution_count": 6,
   "id": "0e75a9a3-9d33-4012-a34f-a7f2f2bbafe4",
   "metadata": {},
   "outputs": [
    {
     "name": "stdout",
     "output_type": "stream",
     "text": [
      "1 2 Fizz 4 Buzz Fizz 7 8 Fizz Buzz 11 Fizz 13 14 FizzBuzz 16 17 Fizz 19 Buzz Fizz 22 23 Fizz Buzz 26 Fizz 28 29 FizzBuzz 31 32 Fizz 34 Buzz Fizz 37 38 Fizz Buzz 41 Fizz 43 44 FizzBuzz 46 47 Fizz 49 Buzz Fizz 52 53 Fizz Buzz 56 Fizz 58 59 FizzBuzz 61 62 Fizz 64 Buzz Fizz 67 68 Fizz Buzz 71 Fizz 73 74 FizzBuzz 76 77 Fizz 79 Buzz Fizz 82 83 Fizz Buzz 86 Fizz 88 89 FizzBuzz 91 92 Fizz 94 Buzz Fizz 97 98 Fizz Buzz "
     ]
    }
   ],
   "source": [
    "for i in range(1,101):\n",
    "    if i%3 == 0 and i%5 != 0:\n",
    "        print(\"Fizz\",end = \" \")\n",
    "    elif i%5 == 0 and i%3 != 0:\n",
    "        print(\"Buzz\", end = \" \")\n",
    "    elif i%3 == 0 and i%5 == 0:\n",
    "        print(\"FizzBuzz\", end = \" \")\n",
    "    else:\n",
    "        print(i,end = \" \")"
   ]
  },
  {
   "cell_type": "markdown",
   "id": "d46ebdb4-9885-46e5-a306-81f390e638b1",
   "metadata": {},
   "source": [
    "### 7. Write a Python program to find the sum of all prime numbers up to n."
   ]
  },
  {
   "cell_type": "code",
   "execution_count": 7,
   "id": "c3c1d26b-f0b7-45c4-b636-316d857308bc",
   "metadata": {},
   "outputs": [
    {
     "name": "stdin",
     "output_type": "stream",
     "text": [
      "Enter any number 10\n"
     ]
    },
    {
     "name": "stdout",
     "output_type": "stream",
     "text": [
      "Sum of prime numbers upto 10 is 17\n"
     ]
    }
   ],
   "source": [
    "n = int(input(\"Enter any number\"))\n",
    "\n",
    "# function to check if it is prime number or not\n",
    "import math \n",
    "\n",
    "def prime(num):\n",
    "    if num == 1:\n",
    "        return False\n",
    "    elif num <= 3 :\n",
    "        return True \n",
    "    else:\n",
    "        for i in range(2, int(math.sqrt(num)+1)):\n",
    "            if num%i == 0:\n",
    "                return False\n",
    "        return True\n",
    "            \n",
    "def findSumOfPrime(n):\n",
    "    total = 0\n",
    "    for i in range(1,n+1):\n",
    "        if prime(i):\n",
    "            total += i\n",
    "    return total\n",
    "            \n",
    "# Drive code\n",
    "print(f\"Sum of prime numbers upto {n} is\",findSumOfPrime(n))"
   ]
  },
  {
   "cell_type": "markdown",
   "id": "b161ba8d-6ffb-45cc-bc4f-ba782bce75b7",
   "metadata": {},
   "source": [
    "### 8.Write a Python program to print the Fibonacci sequence up to n terms. The Fibonacci series is a sequence of numbers where each number is the sum of the two preceding ones, usually starting with 0 and 1."
   ]
  },
  {
   "cell_type": "code",
   "execution_count": 8,
   "id": "c04597ea-9986-4aad-a965-5cb9e4df63a2",
   "metadata": {},
   "outputs": [
    {
     "name": "stdin",
     "output_type": "stream",
     "text": [
      "Enter any number 10\n"
     ]
    },
    {
     "name": "stdout",
     "output_type": "stream",
     "text": [
      "0 1 1 2 3 5 8 13 21 34 "
     ]
    }
   ],
   "source": [
    "n = int(input(\"Enter any number\"))\n",
    "\n",
    "# Fibonacci sequence \n",
    "def fibonacci(n):\n",
    "    if n == 1:\n",
    "        print(0)\n",
    "    else:\n",
    "        first = 0\n",
    "        second = 1\n",
    "        print(first,second, end = \" \")\n",
    "        for i in range(1, n-1):\n",
    "            ans = first + second\n",
    "            print(ans, end = \" \")\n",
    "            first = second\n",
    "            second = ans\n",
    "\n",
    "# Drive code\n",
    "fibonacci(n)"
   ]
  },
  {
   "cell_type": "markdown",
   "id": "1823dd80-69f1-442a-a5e4-57abc4a57069",
   "metadata": {},
   "source": [
    "### 9.Write a Python program to print the following pattern:\n",
    "        *    \n",
    "       ***\n",
    "      *****\n",
    "     *******\n",
    "    *********"
   ]
  },
  {
   "cell_type": "code",
   "execution_count": 9,
   "id": "a5b19c4c-d797-4db0-b6f0-95536077ad39",
   "metadata": {},
   "outputs": [
    {
     "name": "stdin",
     "output_type": "stream",
     "text": [
      "Enter how many rows you want 5\n"
     ]
    },
    {
     "name": "stdout",
     "output_type": "stream",
     "text": [
      "    *\n",
      "   ***\n",
      "  *****\n",
      " *******\n",
      "*********\n"
     ]
    }
   ],
   "source": [
    "n = int(input(\"Enter how many rows you want\"))\n",
    "\n",
    "for i in range(1, n+1):\n",
    "    for j in range(n-i):\n",
    "        print(\" \",end = \"\")\n",
    "        \n",
    "    for k in range(2*i-1):\n",
    "        print(\"*\", end = \"\")\n",
    "        \n",
    "    print()"
   ]
  },
  {
   "cell_type": "markdown",
   "id": "f748be71-45c6-4ab0-8e2e-d299ac11ebb1",
   "metadata": {},
   "source": [
    "### 10.Write a Python program to print the following pattern:\n",
    "        A    \n",
    "       BBB\n",
    "      CCCCC\n",
    "     DDDDDDD\n",
    "    EEEEEEEEE"
   ]
  },
  {
   "cell_type": "code",
   "execution_count": 10,
   "id": "d52493e5-9ea8-416e-bb0c-cfc86845cab8",
   "metadata": {},
   "outputs": [
    {
     "name": "stdin",
     "output_type": "stream",
     "text": [
      "Enter how many rows you want 5\n"
     ]
    },
    {
     "name": "stdout",
     "output_type": "stream",
     "text": [
      "    A\n",
      "   BBB\n",
      "  CCCCC\n",
      " DDDDDDD\n",
      "EEEEEEEEE\n"
     ]
    }
   ],
   "source": [
    "n = int(input(\"Enter how many rows you want\"))\n",
    "\n",
    "alphabets = \"ABCDEFGHIJKLMNOPQRSTUVWXYZ\"\n",
    "\n",
    "for i in range(1, n+1):\n",
    "    for j in range(n-i):\n",
    "        print(\" \",end = \"\")\n",
    "        \n",
    "    for k in range(2*i-1):\n",
    "        print(alphabets[i-1], end = \"\")\n",
    "        \n",
    "    print()"
   ]
  },
  {
   "cell_type": "code",
   "execution_count": null,
   "id": "1f02691c-8bf3-4d32-9880-58eed33e7ecb",
   "metadata": {},
   "outputs": [],
   "source": []
  }
 ],
 "metadata": {
  "kernelspec": {
   "display_name": "Python 3 (ipykernel)",
   "language": "python",
   "name": "python3"
  },
  "language_info": {
   "codemirror_mode": {
    "name": "ipython",
    "version": 3
   },
   "file_extension": ".py",
   "mimetype": "text/x-python",
   "name": "python",
   "nbconvert_exporter": "python",
   "pygments_lexer": "ipython3",
   "version": "3.10.8"
  }
 },
 "nbformat": 4,
 "nbformat_minor": 5
}
